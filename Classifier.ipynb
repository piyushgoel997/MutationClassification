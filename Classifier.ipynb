{
  "nbformat": 4,
  "nbformat_minor": 0,
  "metadata": {
    "colab": {
      "name": "Untitled1.ipynb",
      "provenance": [],
      "authorship_tag": "ABX9TyOld0Kl0US/mqR9VrJ0ni7y",
      "include_colab_link": true
    },
    "kernelspec": {
      "name": "python3",
      "display_name": "Python 3"
    },
    "accelerator": "GPU"
  },
  "cells": [
    {
      "cell_type": "markdown",
      "metadata": {
        "id": "view-in-github",
        "colab_type": "text"
      },
      "source": [
        "<a href=\"https://colab.research.google.com/github/piyushgoel997/MutationClassification/blob/master/Classifier.ipynb\" target=\"_parent\"><img src=\"https://colab.research.google.com/assets/colab-badge.svg\" alt=\"Open In Colab\"/></a>"
      ]
    },
    {
      "cell_type": "markdown",
      "metadata": {
        "id": "FOzwEXPuzGBD",
        "colab_type": "text"
      },
      "source": [
        "Imports\n"
      ]
    },
    {
      "cell_type": "code",
      "metadata": {
        "id": "hBWod3zZyoBH",
        "colab_type": "code",
        "colab": {}
      },
      "source": [
        "import numpy as np\n",
        "import pandas as pd\n",
        "from tensorflow.python.keras import Sequential\n",
        "from tensorflow.python.keras.layers import Conv1D, BatchNormalization, GlobalMaxPooling1D\n",
        "from sklearn.utils import shuffle\n",
        "\n",
        "data_url = \"https://raw.githubusercontent.com/piyushgoel997/MutationClassification/master/data.csv\""
      ],
      "execution_count": 0,
      "outputs": []
    },
    {
      "cell_type": "markdown",
      "metadata": {
        "id": "PxK7n8P1zIeK",
        "colab_type": "text"
      },
      "source": [
        "Load and process data to make matrix"
      ]
    },
    {
      "cell_type": "code",
      "metadata": {
        "id": "AQHkMtSyzNG-",
        "colab_type": "code",
        "colab": {
          "base_uri": "https://localhost:8080/",
          "height": 52
        },
        "outputId": "a34a3fb6-ec66-4d35-a1db-15439a2a5943"
      },
      "source": [
        "def get_aa_encoder():\n",
        "    \"\"\"\n",
        "    One-hot encoding indices for the 20 possible amino acids.\n",
        "    :return: the dictionary mapping amino acid to index in the one-hot encoding.\n",
        "    \"\"\"\n",
        "    acids = \"ARNDCEQGHILKMFPSTWYV\"\n",
        "    indices = {}\n",
        "    i = 0\n",
        "    for a in acids:\n",
        "        indices[a] = i\n",
        "        i += 1\n",
        "    return indices\n",
        "\n",
        "\n",
        "def make_matrix(seq, alt):\n",
        "    \"\"\"\n",
        "    makes a matrix where each of the 51 features correspond to the amino acid at\n",
        "    that position in the sequence after the one-hot encoding using the indices\n",
        "    provided. Also puts a -1 at in the middle most feature at the position\n",
        "    corresponding to the alt amino acid.\n",
        "    :param seq: the sequence to be encoded.\n",
        "    :param alt: the alternate amino acid\n",
        "    :return: the resultant encoded matrix (51 X 20)\n",
        "    \"\"\"\n",
        "    indices = get_aa_encoder()\n",
        "    matrix = np.zeros((len(indices), len(seq)))\n",
        "    i = 0\n",
        "    for s in seq:\n",
        "        matrix[indices[s]][i] = 1\n",
        "        i += 1\n",
        "    matrix[indices[alt]][int(len(seq) / 2)] = -1\n",
        "    return matrix.T\n",
        "\n",
        "\n",
        "def map_description(description):\n",
        "    map = {'Benign': 0, 'Benign/Likely benign': 0, 'Likely benign': 0,\n",
        "           'Likely pathogenic': 1, 'Pathogenic': 1, 'Pathogenic/Likely pathogenic': 1}\n",
        "    return map[description]\n",
        "\n",
        "\n",
        "X = []\n",
        "Y = []\n",
        "mutations = pd.read_csv(data_url)\n",
        "\n",
        "for _, row in mutations.iterrows():\n",
        "    X.append(make_matrix(row[\"REF_SEQ\"], row[\"ALT_AA\"]))\n",
        "    Y.append(map_description(row[\"DESCRIPTION\"]))\n",
        "\n",
        "X = np.array(X)\n",
        "Y = np.array(Y)\n",
        "\n",
        "# reshaping to be able to apply convulutional layer with 1 channel.\n",
        "# X = X.reshape(X.shape[0],X.shape[1], 1, X.shape[2])\n",
        "\n",
        "print(\"Data shape\", X.shape)\n",
        "print(\"Output shape\", Y.shape)"
      ],
      "execution_count": 7,
      "outputs": [
        {
          "output_type": "stream",
          "text": [
            "Data shape (229502, 51, 20)\n",
            "Output shape (229502,)\n"
          ],
          "name": "stdout"
        }
      ]
    },
    {
      "cell_type": "code",
      "metadata": {
        "id": "BLJhPvH10c-L",
        "colab_type": "code",
        "colab": {}
      },
      "source": [
        "model = Sequential()\n",
        "\n",
        "model.add(Conv1D(32, kernel_size=3, activation=\"relu\"))\n",
        "model.add(Conv1D(64, kernel_size=5, activation=\"relu\"))\n",
        "model.add(BatchNormalization())\n",
        "model.add(Conv1D(64, kernel_size=5, activation='relu'))\n",
        "model.add(BatchNormalization())\n",
        "model.add(Conv1D(32, kernel_size=3, activation='relu'))\n",
        "model.add(BatchNormalization())\n",
        "model.add(Conv1D(1, kernel_size=1, activation='sigmoid'))\n",
        "model.add(BatchNormalization())\n",
        "model.add(GlobalMaxPooling1D())"
      ],
      "execution_count": 0,
      "outputs": []
    },
    {
      "cell_type": "code",
      "metadata": {
        "id": "AlWKTvvYT71o",
        "colab_type": "code",
        "colab": {}
      },
      "source": [
        "model.compile(optimizer='adam', loss='mean_squared_error', metrics=['accuracy'])"
      ],
      "execution_count": 0,
      "outputs": []
    },
    {
      "cell_type": "code",
      "metadata": {
        "id": "xnw9fYN2Ug3y",
        "colab_type": "code",
        "colab": {}
      },
      "source": [
        "X, Y = shuffle(X, Y)\n",
        "X_train = X[:int(0.8*X.shape[0])]\n",
        "Y_train = Y[:int(0.8*Y.shape[0])]\n",
        "X_test = X[int(0.8*X.shape[0]):]\n",
        "Y_test = Y[int(0.8*Y.shape[0]):]"
      ],
      "execution_count": 0,
      "outputs": []
    },
    {
      "cell_type": "code",
      "metadata": {
        "id": "i8FWO5vlY8MZ",
        "colab_type": "code",
        "colab": {
          "base_uri": "https://localhost:8080/",
          "height": 739
        },
        "outputId": "4a2692ea-8cd3-44aa-a27d-35bea201c7b9"
      },
      "source": [
        "model.fit(X_train, Y_train, validation_data=(X_test, Y_test), epochs=20)"
      ],
      "execution_count": 23,
      "outputs": [
        {
          "output_type": "stream",
          "text": [
            "Epoch 1/20\n",
            "5738/5738 [==============================] - 39s 7ms/step - loss: 0.1315 - accuracy: 0.8281 - val_loss: 0.0923 - val_accuracy: 0.8741\n",
            "Epoch 2/20\n",
            "5738/5738 [==============================] - 39s 7ms/step - loss: 0.0868 - accuracy: 0.8775 - val_loss: 0.0830 - val_accuracy: 0.8831\n",
            "Epoch 3/20\n",
            "5738/5738 [==============================] - 39s 7ms/step - loss: 0.0793 - accuracy: 0.8879 - val_loss: 0.0804 - val_accuracy: 0.8863\n",
            "Epoch 4/20\n",
            "5738/5738 [==============================] - 39s 7ms/step - loss: 0.0752 - accuracy: 0.8937 - val_loss: 0.0772 - val_accuracy: 0.8920\n",
            "Epoch 5/20\n",
            "5738/5738 [==============================] - 39s 7ms/step - loss: 0.0723 - accuracy: 0.8980 - val_loss: 0.0753 - val_accuracy: 0.8942\n",
            "Epoch 6/20\n",
            "5738/5738 [==============================] - 39s 7ms/step - loss: 0.0696 - accuracy: 0.9038 - val_loss: 0.0742 - val_accuracy: 0.8967\n",
            "Epoch 7/20\n",
            "5738/5738 [==============================] - 39s 7ms/step - loss: 0.0671 - accuracy: 0.9077 - val_loss: 0.0732 - val_accuracy: 0.8986\n",
            "Epoch 8/20\n",
            "5738/5738 [==============================] - 39s 7ms/step - loss: 0.0648 - accuracy: 0.9131 - val_loss: 0.0723 - val_accuracy: 0.9006\n",
            "Epoch 9/20\n",
            "5738/5738 [==============================] - 39s 7ms/step - loss: 0.0628 - accuracy: 0.9155 - val_loss: 0.0733 - val_accuracy: 0.9004\n",
            "Epoch 10/20\n",
            "5738/5738 [==============================] - 39s 7ms/step - loss: 0.0609 - accuracy: 0.9190 - val_loss: 0.0706 - val_accuracy: 0.9039\n",
            "Epoch 11/20\n",
            "5738/5738 [==============================] - 39s 7ms/step - loss: 0.0588 - accuracy: 0.9231 - val_loss: 0.0709 - val_accuracy: 0.9034\n",
            "Epoch 12/20\n",
            "5738/5738 [==============================] - 39s 7ms/step - loss: 0.0572 - accuracy: 0.9254 - val_loss: 0.0710 - val_accuracy: 0.9043\n",
            "Epoch 13/20\n",
            "5738/5738 [==============================] - 39s 7ms/step - loss: 0.0560 - accuracy: 0.9273 - val_loss: 0.0702 - val_accuracy: 0.9056\n",
            "Epoch 14/20\n",
            "5738/5738 [==============================] - 38s 7ms/step - loss: 0.0542 - accuracy: 0.9303 - val_loss: 0.0706 - val_accuracy: 0.9059\n",
            "Epoch 15/20\n",
            "5738/5738 [==============================] - 39s 7ms/step - loss: 0.0531 - accuracy: 0.9322 - val_loss: 0.0694 - val_accuracy: 0.9069\n",
            "Epoch 16/20\n",
            "5738/5738 [==============================] - 39s 7ms/step - loss: 0.0515 - accuracy: 0.9345 - val_loss: 0.0702 - val_accuracy: 0.9066\n",
            "Epoch 17/20\n",
            "5738/5738 [==============================] - 39s 7ms/step - loss: 0.0502 - accuracy: 0.9366 - val_loss: 0.0703 - val_accuracy: 0.9080\n",
            "Epoch 18/20\n",
            "5738/5738 [==============================] - 39s 7ms/step - loss: 0.0493 - accuracy: 0.9383 - val_loss: 0.0695 - val_accuracy: 0.9093\n",
            "Epoch 19/20\n",
            "5738/5738 [==============================] - 39s 7ms/step - loss: 0.0479 - accuracy: 0.9400 - val_loss: 0.0697 - val_accuracy: 0.9100\n",
            "Epoch 20/20\n",
            "5738/5738 [==============================] - 38s 7ms/step - loss: 0.0473 - accuracy: 0.9413 - val_loss: 0.0705 - val_accuracy: 0.9093\n"
          ],
          "name": "stdout"
        },
        {
          "output_type": "execute_result",
          "data": {
            "text/plain": [
              "<tensorflow.python.keras.callbacks.History at 0x7f97ca6d4cc0>"
            ]
          },
          "metadata": {
            "tags": []
          },
          "execution_count": 23
        }
      ]
    },
    {
      "cell_type": "code",
      "metadata": {
        "id": "tb2auZ4TZIK0",
        "colab_type": "code",
        "colab": {}
      },
      "source": [
        ""
      ],
      "execution_count": 0,
      "outputs": []
    }
  ]
}