{
  "nbformat": 4,
  "nbformat_minor": 0,
  "metadata": {
    "colab": {
      "name": "Untitled1.ipynb",
      "provenance": [],
      "authorship_tag": "ABX9TyO7E2WM1ND1JsODnzJtzCiu",
      "include_colab_link": true
    },
    "kernelspec": {
      "name": "python3",
      "display_name": "Python 3"
    }
  },
  "cells": [
    {
      "cell_type": "markdown",
      "metadata": {
        "id": "view-in-github",
        "colab_type": "text"
      },
      "source": [
        "<a href=\"https://colab.research.google.com/github/piyushgoel997/MutationClassification/blob/master/Classifier.ipynb\" target=\"_parent\"><img src=\"https://colab.research.google.com/assets/colab-badge.svg\" alt=\"Open In Colab\"/></a>"
      ]
    },
    {
      "cell_type": "markdown",
      "metadata": {
        "id": "FOzwEXPuzGBD",
        "colab_type": "text"
      },
      "source": [
        "Imports\n"
      ]
    },
    {
      "cell_type": "code",
      "metadata": {
        "id": "hBWod3zZyoBH",
        "colab_type": "code",
        "colab": {}
      },
      "source": [
        "import numpy as np\n",
        "import pandas as pd\n",
        "import tensorflow as tf"
      ],
      "execution_count": 0,
      "outputs": []
    },
    {
      "cell_type": "markdown",
      "metadata": {
        "id": "PxK7n8P1zIeK",
        "colab_type": "text"
      },
      "source": [
        "Load and process data to make matrix"
      ]
    },
    {
      "cell_type": "code",
      "metadata": {
        "id": "AQHkMtSyzNG-",
        "colab_type": "code",
        "colab": {}
      },
      "source": [
        "def get_aa_encoder():\n",
        "    \"\"\"\n",
        "    One-hot encoding indices for the 20 possible amino acids.\n",
        "    :return: the dictionary mapping amino acid to index in the one-hot encoding.\n",
        "    \"\"\"\n",
        "    acids = \"ARNDCEQGHILKMFPSTWYV\"\n",
        "    indices = {}\n",
        "    i = 0\n",
        "    for a in acids:\n",
        "        indices[a] = i\n",
        "        i += 1\n",
        "    return indices\n",
        "\n",
        "\n",
        "def make_matrix(seq, alt):\n",
        "    \"\"\"\n",
        "    makes a matrix where each of the 51 features correspond to the amino acid at that position in the sequence after the\n",
        "    one-hot encoding using the indices provided. Also puts a -1 at in the middle most feature at the position\n",
        "    corresponding to the alt amino acid.\n",
        "    :param seq: the sequence to be encoded.\n",
        "    :param alt: the alternate amino acid\n",
        "    :return: the resultant encoded matrix (51 X 20)\n",
        "    \"\"\"\n",
        "    indices = get_aa_encoder()\n",
        "    matrix = np.zeros((len(indices), len(seq)))\n",
        "    i = 0\n",
        "    for s in seq:\n",
        "        matrix[indices[s]][i] = 1\n",
        "        i += 1\n",
        "    matrix[indices[alt]][int(len(seq) / 2)] = -1\n",
        "    return matrix.T\n",
        "\n",
        "\n",
        "def map_description(description):\n",
        "    map = {'Benign': 0, 'Benign/Likely benign': 0, 'Likely benign': 0,\n",
        "           'Likely pathogenic': 1, 'Pathogenic': 1, 'Pathogenic/Likely pathogenic': 1}\n",
        "    return map[description]\n",
        "\n",
        "\n",
        "X = []\n",
        "Y = []\n",
        "mutations = pd.read_csv(\"FinalData/final_data.csv\")\n",
        "\n",
        "for _, row in mutations.iterrows():\n",
        "    X.append(make_matrix(row[\"REF_SEQ\"], row[\"ALT_AA\"]))\n",
        "    Y.append(map_description(row[\"DESCRIPTION\"]))\n",
        "\n",
        "X = np.array(X)\n",
        "Y = np.array(Y)"
      ],
      "execution_count": 0,
      "outputs": []
    }
  ]
}